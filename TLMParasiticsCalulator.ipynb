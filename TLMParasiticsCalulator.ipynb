{
 "cells": [
  {
   "cell_type": "code",
   "execution_count": null,
   "metadata": {
    "collapsed": false
   },
   "outputs": [],
   "source": [
    "from IPython.core.display import display, HTML\n",
    "display(HTML(\"<style>.container { width:100% !important; }</style>\"))\n",
    "\n",
    "__author__ = \"Peter Nordin\"\n",
    "__license__ = \"GPL\"\n",
    "__email__ = \"peter.nordin@liu.se\"\n",
    "\n",
    "'''The purpose of this script is to allow easy calulation of the parasitic inductance and/or capacitance that\n",
    "   will result from the choice of time step and material properties in Hopsan'''\n",
    "\n",
    "%matplotlib inline\n",
    "import numpy as np\n",
    "import matplotlib.pyplot as plt\n",
    "from TLMclasses import *\n",
    "#import pandas as pd"
   ]
  },
  {
   "cell_type": "code",
   "execution_count": null,
   "metadata": {
    "collapsed": false
   },
   "outputs": [],
   "source": [
    "# Everything in this block is completely WRONG, ignore it\n",
    "\n",
    "E=2.1e11\n",
    "rho=7850\n",
    "L=1\n",
    "D=0.04*1\n",
    "A=np.pi*D*D/4\n",
    "\n",
    "mass_desired = A*L*rho\n",
    "Zc_desired = np.sqrt(rho*A*A*E)\n",
    "wavespeed = np.sqrt(E/rho)\n",
    "Tdesired = L/wavespeed\n",
    "stiffness_desired = E*A/L\n",
    "n = 2                              # n = number of delay steps\n",
    "\n",
    "template = \"{0:20}{1:15}\"\n",
    "print(template.format('Desired mass:', str(mass_desired)))\n",
    "print(template.format('Desired stiffness:', str(stiffness_desired)))\n",
    "print(template.format('wavespeed:', str(wavespeed)))\n",
    "print(template.format('Desired Zc:', str(Zc_desired)))\n",
    "print(template.format('Tdesired:', str(Tdesired)))\n",
    "\n",
    "ts = np.linspace(1e-6,5e-4,100)\n",
    "\n",
    "Xdesired = [Tdesired*wavespeed+t*0 for t in ts]\n",
    "Xpercived = [n*t*wavespeed for t in ts]\n",
    "Mass_percived = [rho*A*n*t*wavespeed for t in ts]\n",
    "ParasiticInd = [(n*t-Tdesired)*Zc_desired for t in ts] \n",
    " \n",
    "\n",
    "fig, axL = plt.subplots()\n",
    "#plt.title('Length and parasitic mass realtive to simualtion timestep')\n",
    "axL.plot(ts*1e6, Xpercived, label='Xpercived')\n",
    "axL.plot(ts*1e6, Xdesired, label='Xdesired')\n",
    "axL.set_ylabel('Length in meters')\n",
    "axR = axL.twinx()\n",
    "axR.plot(ts*1e6, ParasiticInd, color='red', label='Parsitic Mass')\n",
    "axR.plot(ts*1e6, Mass_percived, color='y', label='Mass percived')\n",
    "axR.set_ylabel('Mass in Kg')\n",
    "axL.set_xlabel('Simulation Timestep in micro seconds')\n",
    "axL.legend(loc='best')\n",
    "axR.legend(loc='upper right')\n",
    "plt.show()"
   ]
  },
  {
   "cell_type": "code",
   "execution_count": null,
   "metadata": {
    "collapsed": false
   },
   "outputs": [],
   "source": [
    "# Steady state Inductance test\n",
    "# Preserve Char.impeedance, Get Parasitic Inductance (and capacitance, not listed here)\n",
    "# Test is to apply constant Force, we should get reuslting velocity = F/m*tend \n",
    "force = 100\n",
    "tend = 0.2\n",
    "\n",
    "print('Tdesired: '+str(Tdesired)+' Massdesired: '+str(mass_desired)+' Velocitydesired: '+str(force/mass_desired*tend))\n",
    "Ts = [Tdesired/n, Tdesired/n*2, Tdesired/n*4, Tdesired/n*8, 1e-9, 1e-8, 1e-7, 1e-6, 1e-5, 1e-4, 5e-4, 1e-3, 1e-2, 1e-1, 1e-0]\n",
    "Ts = sorted(Ts)\n",
    "\n",
    "template = \"{0:20} & {1:20} & {2:20} & {3:20} \\\\\\\\\"\n",
    "print(template.format(\"Time step\", \"Par. Inductance\", \"Percived Mass\", \"Integrated Velocity\"))\n",
    "for t in Ts:\n",
    "    tp = TLMLineParameters(wavespeed, L, Zc_desired, mass_desired, stiffness_desired)\n",
    "    tp.calcStuff(t,n)\n",
    "    MassPercived = rho*tp.percived.length*A # Calc percived mass in a different way\n",
    "    \n",
    "    # v and v2 should be the same\n",
    "    v = force/(tp.percived.ind)*tend\n",
    "    v2 = force/(MassPercived)*tend\n",
    "    print(template.format(str(t), str(tp.parasitic.ind), str(tp.percived.ind), str(v)))"
   ]
  },
  {
   "cell_type": "code",
   "execution_count": null,
   "metadata": {
    "collapsed": false,
    "scrolled": true
   },
   "outputs": [],
   "source": [
    "# Steady-state Capacitance test\n",
    "# Preserve Char.impeedance, Get Parasitic Capacitance (and inductance, not listed here)\n",
    "# Test is to apply constant Force, we should get a resulting displacement D = F/k = F*C (k = stiffness)\n",
    "\n",
    "print('Tdesired: '+str(Tdesired)+' Massdesired: '+str(mass_desired)+' Desired Cap (1/k): '+str(1/stiffness_desired))\n",
    "template = \"{0:20}{1:20}{2:20}{3:20}{4:20}{5:20}\"\n",
    "print(template.format(\"Ts\", \"ParasiticCap\", \"CapacitancePercived\", \"StiffnessPercived\", \"D (parasitic cap)\", \"D (stiffnesspercived)\"))\n",
    "for t in Ts:\n",
    "    tp = TLMLineParameters(wavespeed, L, Zc_desired, mass_desired, stiffness_desired)\n",
    "    tp.calcStuff(t,n)\n",
    "    Stiffness_percived = E*A/tp.percived.length                # Calculate based on percived length\n",
    "    \n",
    "    # d and d2 should be same\n",
    "    d = force/tp.percived.stiffness\n",
    "    d2 = force/Stiffness_percived\n",
    "    print(template.format(str(t), str(tp.parasitic.cap), str(tp.percived.cap), str(tp.percived.stiffness), str(d), str(d2)))\n"
   ]
  },
  {
   "cell_type": "code",
   "execution_count": null,
   "metadata": {
    "collapsed": false
   },
   "outputs": [],
   "source": [
    "# Print again for LaTeX (same data)\n",
    "template = \"{0:20} & {1:20} & {2:20} & {3:20} \\\\\\\\\"\n",
    "print(template.format(\"Time step\", \"Par. Capacitance\", \"Percived Stiffness\", \"Steady-state Displacement\"))\n",
    "for t in Ts:\n",
    "    tp = TLMLineParameters(wavespeed, L, Zc_desired, mass_desired, stiffness_desired)\n",
    "    tp.calcStuff(t,n)\n",
    "\n",
    "    d = force/tp.percived.stiffness\n",
    "    print(template.format(str(t), str(tp.parasitic.cap), str(tp.percived.stiffness), str(d)))"
   ]
  },
  {
   "cell_type": "code",
   "execution_count": null,
   "metadata": {
    "collapsed": false
   },
   "outputs": [],
   "source": [
    "# Calculate wavespeeds\n",
    "\n",
    "steelE = 210e9\n",
    "steelRho = 7850\n",
    "oilK = 1.6e9\n",
    "oilRho = 890\n",
    "l=1\n",
    "\n",
    "steelSpeed = np.sqrt(steelE/steelRho)\n",
    "oilSpeed = np.sqrt(oilK/oilRho)\n",
    "\n",
    "print('Wavespeed in oil: '+str(oilSpeed)+' Tul: '+str(l/oilSpeed))\n",
    "print('Wavespeed in steel: '+str(steelSpeed)+' Tul: '+str(l/steelSpeed))\n"
   ]
  }
 ],
 "metadata": {
  "kernelspec": {
   "display_name": "Python 3",
   "language": "python",
   "name": "python3"
  },
  "language_info": {
   "codemirror_mode": {
    "name": "ipython",
    "version": 3
   },
   "file_extension": ".py",
   "mimetype": "text/x-python",
   "name": "python",
   "nbconvert_exporter": "python",
   "pygments_lexer": "ipython3",
   "version": "3.5.2"
  }
 },
 "nbformat": 4,
 "nbformat_minor": 0
}
