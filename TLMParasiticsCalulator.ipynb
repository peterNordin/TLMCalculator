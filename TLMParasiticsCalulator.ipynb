{
 "cells": [
  {
   "cell_type": "code",
   "execution_count": 1,
   "metadata": {
    "collapsed": false
   },
   "outputs": [
    {
     "data": {
      "text/html": [
       "<style>.container { width:100% !important; }</style>"
      ],
      "text/plain": [
       "<IPython.core.display.HTML object>"
      ]
     },
     "metadata": {},
     "output_type": "display_data"
    }
   ],
   "source": [
    "from IPython.core.display import display, HTML\n",
    "display(HTML(\"<style>.container { width:100% !important; }</style>\"))\n",
    "\n",
    "__author__ = \"Peter Nordin\"\n",
    "__license__ = \"GPL\"\n",
    "__email__ = \"peter.nordin@liu.se\"\n",
    "\n",
    "'''The purpose of this script is to allow easy calulation of the parasitic inductance and/or capacitance that\n",
    "   will result from the choice of time step and material properties in Hopsan'''\n",
    "\n",
    "%matplotlib inline\n",
    "import numpy as np\n",
    "import matplotlib.pyplot as plt\n",
    "from TLMclasses import *\n",
    "#import pandas as pd"
   ]
  },
  {
   "cell_type": "code",
   "execution_count": 2,
   "metadata": {
    "collapsed": false
   },
   "outputs": [
    {
     "name": "stdout",
     "output_type": "stream",
     "text": [
      "Desired mass:       9.864600932271951\n",
      "Desired stiffness:  263893782.90154266\n",
      "wavespeed:          5172.19415303  \n",
      "Desired Zc:         51021.6312639  \n",
      "Tdesired:           0.00019334154334\n"
     ]
    },
    {
     "data": {
      "image/png": "[encoded data removed]",
      "text/plain": [
       "<matplotlib.figure.Figure at 0x7f5e00f9c518>"
      ]
     },
     "metadata": {},
     "output_type": "display_data"
    }
   ],
   "source": [
    "# Everything in this block is completely WRONG, ignore it\n",
    "\n",
    "E=2.1e11\n",
    "rho=7850\n",
    "L=1\n",
    "D=0.04*1\n",
    "A=np.pi*D*D/4\n",
    "\n",
    "mass_desired = A*L*rho\n",
    "Zc_desired = np.sqrt(rho*A*A*E)\n",
    "wavespeed = np.sqrt(E/rho)\n",
    "Tdesired = L/wavespeed\n",
    "stiffness_desired = E*A/L\n",
    "n = 2                              # n = number of delay steps\n",
    "\n",
    "template = \"{0:20}{1:15}\"\n",
    "print(template.format('Desired mass:', str(mass_desired)))\n",
    "print(template.format('Desired stiffness:', str(stiffness_desired)))\n",
    "print(template.format('wavespeed:', str(wavespeed)))\n",
    "print(template.format('Desired Zc:', str(Zc_desired)))\n",
    "print(template.format('Tdesired:', str(Tdesired)))\n",
    "\n",
    "ts = np.linspace(1e-6,5e-4,100)\n",
    "\n",
    "Xdesired = [Tdesired*wavespeed+t*0 for t in ts]\n",
    "Xpercived = [n*t*wavespeed for t in ts]\n",
    "Mass_percived = [rho*A*n*t*wavespeed for t in ts]\n",
    "ParasiticInd = [(n*t-Tdesired)*Zc_desired for t in ts] \n",
    " \n",
    "\n",
    "fig, axL = plt.subplots()\n",
    "#plt.title('Length and parasitic mass realtive to simualtion timestep')\n",
    "axL.plot(ts*1e6, Xpercived, label='Xpercived')\n",
    "axL.plot(ts*1e6, Xdesired, label='Xdesired')\n",
    "axL.set_ylabel('Length in meters')\n",
    "axR = axL.twinx()\n",
    "axR.plot(ts*1e6, ParasiticInd, color='red', label='Parsitic Mass')\n",
    "axR.plot(ts*1e6, Mass_percived, color='y', label='Mass percived')\n",
    "axR.set_ylabel('Mass in Kg')\n",
    "axL.set_xlabel('Simulation Timestep in micro seconds')\n",
    "axL.legend(loc='best')\n",
    "axR.legend(loc='upper right')\n",
    "plt.show()"
   ]
  },
  {
   "cell_type": "code",
   "execution_count": 3,
   "metadata": {
    "collapsed": false
   },
   "outputs": [
    {
     "name": "stdout",
     "output_type": "stream",
     "text": [
      "Tdesired: 0.00019334154334 Massdesired: 9.864600932271951 Velocitydesired: 2.0274515043553545\n",
      "Time step            & Par. Inductance      & Percived Mass        & Integrated Velocity  \\\\\n",
      "1e-09                & -9.86460093227       & 3.86683086679e-13    & 5.17219415303e+13    \\\\\n",
      "1e-08                & -9.86460093227       & 3.86683086679e-12    & 5.17219415303e+12    \\\\\n",
      "1e-07                & -9.86460093223       & 3.86683086679e-11    & 517219415303.0       \\\\\n",
      "1e-06                & -9.86460093189       & 3.86683086679e-10    & 51721941530.3        \\\\\n",
      "1e-05                & -9.86460092841       & 3.86683086679e-09    & 5172194153.03        \\\\\n",
      "9.66707716698e-05    & -9.86460089489       & 3.7380952381e-08     & 535031847.134        \\\\\n",
      "0.0001               & -9.8646008936        & 3.86683086679e-08    & 517219415.303        \\\\\n",
      "0.00019334154334     & -9.86460085751       & 7.47619047619e-08    & 267515923.567        \\\\\n",
      "0.000386683086679    & -9.86460078275       & 1.49523809524e-07    & 133757961.783        \\\\\n",
      "0.0005               & -9.86460073893       & 1.9334154334e-07     & 103443883.061        \\\\\n",
      "0.000773366173359    & -9.86460063322       & 2.99047619048e-07    & 66878980.8917        \\\\\n",
      "0.001                & -9.86460054559       & 3.86683086679e-07    & 51721941.5303        \\\\\n",
      "0.01                 & -9.86459706544       & 3.86683086679e-06    & 5172194.15303        \\\\\n",
      "0.1                  & -9.86456226396       & 3.86683086679e-05    & 517219.415303        \\\\\n",
      "1.0                  & -9.86421424919       & 0.000386683086679    & 51721.9415303        \\\\\n"
     ]
    }
   ],
   "source": [
    "# Steady state Inductance test\n",
    "# Preserve Char.impeedance, Get Parasitic Inductance (and capacitance, not listed here)\n",
    "# Test is to apply constant Force, we should get reuslting velocity = F/m*tend \n",
    "force = 100\n",
    "tend = 0.2\n",
    "\n",
    "print('Tdesired: '+str(Tdesired)+' Massdesired: '+str(mass_desired)+' Velocitydesired: '+str(force/mass_desired*tend))\n",
    "Ts = [Tdesired/n, Tdesired/n*2, Tdesired/n*4, Tdesired/n*8, 1e-9, 1e-8, 1e-7, 1e-6, 1e-5, 1e-4, 5e-4, 1e-3, 1e-2, 1e-1, 1e-0]\n",
    "Ts = sorted(Ts)\n",
    "\n",
    "template = \"{0:20} & {1:20} & {2:20} & {3:20} \\\\\\\\\"\n",
    "print(template.format(\"Time step\", \"Par. Inductance\", \"Percived Mass\", \"Integrated Velocity\"))\n",
    "for t in Ts:\n",
    "    tp = TLMLineParameters(wavespeed, L, Zc_desired, mass_desired, stiffness_desired)\n",
    "    tp.calcStuff(t,n)\n",
    "    MassPercived = rho*tp.percived.length*A # Calc percived mass in a different way\n",
    "    \n",
    "    # v and v2 should be the same\n",
    "    v = force/(tp.percived.ind)*tend\n",
    "    v2 = force/(MassPercived)*tend\n",
    "    print(template.format(str(t), str(tp.parasitic.ind), str(tp.percived.ind), str(v)))"
   ]
  },
  {
   "cell_type": "code",
   "execution_count": 4,
   "metadata": {
    "collapsed": false,
    "scrolled": true
   },
   "outputs": [
    {
     "name": "stdout",
     "output_type": "stream",
     "text": [
      "Tdesired: 0.00019334154334 Massdesired: 9.864600932271951 Desired Cap (1/k): 3.789403406949888e-09\n",
      "Ts                  ParasiticCap        CapacitancePercived StiffnessPercived   D (parasitic cap)   D (stiffnesspercived)\n",
      "1e-09               -263893782.902      1.03443883061e-05   96670.7716698       0.00103443883061    3.91990602898e-12   \n",
      "1e-08               -263893782.901      0.000103443883061   9667.07716698       0.0103443883061     3.91990602898e-11   \n",
      "1e-07               -263893782.901      0.00103443883061    966.707716698       0.103443883061      3.91990602898e-10   \n",
      "1e-06               -263893782.891      0.0103443883061     96.6707716698       1.03443883061       3.91990602898e-09   \n",
      "1e-05               -263893782.798      0.103443883061      9.66707716698       10.3443883061       3.91990602898e-08   \n",
      "9.66707716698e-05   -263893781.902      1.0                 1.0                 100.0               3.78940340695e-07   \n",
      "0.0001              -263893781.867      1.03443883061       0.966707716698      103.443883061       3.91990602898e-07   \n",
      "0.00019334154334    -263893780.902      2.0                 0.5                 200.0               7.5788068139e-07    \n",
      "0.000386683086679   -263893778.902      4.0                 0.25                400.0               1.51576136278e-06   \n",
      "0.0005              -263893777.729      5.17219415303       0.19334154334       517.219415303       1.95995301449e-06   \n",
      "0.000773366173359   -263893774.902      8.0                 0.125               800.0               3.03152272556e-06   \n",
      "0.001               -263893772.557      10.3443883061       0.0966707716698     1034.43883061       3.91990602898e-06   \n",
      "0.01                -263893679.458      103.443883061       0.00966707716698    10344.3883061       3.91990602898e-05   \n",
      "0.1                 -263892748.463      1034.43883061       0.000966707716698   103443.883061       0.000391990602898   \n",
      "1.0                 -263883438.513      10344.3883061       9.66707716698e-05   1034438.83061       0.00391990602898    \n"
     ]
    }
   ],
   "source": [
    "# Steady-state Capacitance test\n",
    "# Preserve Char.impeedance, Get Parasitic Capacitance (and inductance, not listed here)\n",
    "# Test is to apply constant Force, we should get a resulting displacement D = F/k = F*C (k = stiffness)\n",
    "\n",
    "print('Tdesired: '+str(Tdesired)+' Massdesired: '+str(mass_desired)+' Desired Cap (1/k): '+str(1/stiffness_desired))\n",
    "template = \"{0:20}{1:20}{2:20}{3:20}{4:20}{5:20}\"\n",
    "print(template.format(\"Ts\", \"ParasiticCap\", \"CapacitancePercived\", \"StiffnessPercived\", \"D (parasitic cap)\", \"D (stiffnesspercived)\"))\n",
    "for t in Ts:\n",
    "    tp = TLMLineParameters(wavespeed, L, Zc_desired, mass_desired, stiffness_desired)\n",
    "    tp.calcStuff(t,n)\n",
    "    Stiffness_percived = E*A/tp.percived.length                # Calculate based on percived length\n",
    "    \n",
    "    # d and d2 should be same\n",
    "    d = force/tp.percived.stiffness\n",
    "    d2 = force/Stiffness_percived\n",
    "    print(template.format(str(t), str(tp.parasitic.cap), str(tp.percived.cap), str(tp.percived.stiffness), str(d), str(d2)))\n"
   ]
  },
  {
   "cell_type": "code",
   "execution_count": 5,
   "metadata": {
    "collapsed": false
   },
   "outputs": [
    {
     "name": "stdout",
     "output_type": "stream",
     "text": [
      "Time step            & Par. Capacitance     & Percived Stiffness   & Steady-state Displacement \\\\\n",
      "1e-09                & -263893782.902       & 96670.7716698        & 0.00103443883061     \\\\\n",
      "1e-08                & -263893782.901       & 9667.07716698        & 0.0103443883061      \\\\\n",
      "1e-07                & -263893782.901       & 966.707716698        & 0.103443883061       \\\\\n",
      "1e-06                & -263893782.891       & 96.6707716698        & 1.03443883061        \\\\\n",
      "1e-05                & -263893782.798       & 9.66707716698        & 10.3443883061        \\\\\n",
      "9.66707716698e-05    & -263893781.902       & 1.0                  & 100.0                \\\\\n",
      "0.0001               & -263893781.867       & 0.966707716698       & 103.443883061        \\\\\n",
      "0.00019334154334     & -263893780.902       & 0.5                  & 200.0                \\\\\n",
      "0.000386683086679    & -263893778.902       & 0.25                 & 400.0                \\\\\n",
      "0.0005               & -263893777.729       & 0.19334154334        & 517.219415303        \\\\\n",
      "0.000773366173359    & -263893774.902       & 0.125                & 800.0                \\\\\n",
      "0.001                & -263893772.557       & 0.0966707716698      & 1034.43883061        \\\\\n",
      "0.01                 & -263893679.458       & 0.00966707716698     & 10344.3883061        \\\\\n",
      "0.1                  & -263892748.463       & 0.000966707716698    & 103443.883061        \\\\\n",
      "1.0                  & -263883438.513       & 9.66707716698e-05    & 1034438.83061        \\\\\n"
     ]
    }
   ],
   "source": [
    "# Print again for LaTeX (same data)\n",
    "template = \"{0:20} & {1:20} & {2:20} & {3:20} \\\\\\\\\"\n",
    "print(template.format(\"Time step\", \"Par. Capacitance\", \"Percived Stiffness\", \"Steady-state Displacement\"))\n",
    "for t in Ts:\n",
    "    tp = TLMLineParameters(wavespeed, L, Zc_desired, mass_desired, stiffness_desired)\n",
    "    tp.calcStuff(t,n)\n",
    "\n",
    "    d = force/tp.percived.stiffness\n",
    "    print(template.format(str(t), str(tp.parasitic.cap), str(tp.percived.stiffness), str(d)))"
   ]
  },
  {
   "cell_type": "code",
   "execution_count": 6,
   "metadata": {
    "collapsed": false
   },
   "outputs": [
    {
     "name": "stdout",
     "output_type": "stream",
     "text": [
      "Wavespeed in oil: 1340.80304631 Tul: 0.000745821694509\n",
      "Wavespeed in steel: 5172.19415303 Tul: 0.00019334154334\n"
     ]
    }
   ],
   "source": [
    "# Calculate wavespeeds\n",
    "\n",
    "steelE = 210e9\n",
    "steelRho = 7850\n",
    "oilK = 1.6e9\n",
    "oilRho = 890\n",
    "l=1\n",
    "\n",
    "steelSpeed = np.sqrt(steelE/steelRho)\n",
    "oilSpeed = np.sqrt(oilK/oilRho)\n",
    "\n",
    "print('Wavespeed in oil: '+str(oilSpeed)+' Tul: '+str(l/oilSpeed))\n",
    "print('Wavespeed in steel: '+str(steelSpeed)+' Tul: '+str(l/steelSpeed))\n"
   ]
  }
 ],
 "metadata": {
  "kernelspec": {
   "display_name": "Python 3",
   "language": "python",
   "name": "python3"
  },
  "language_info": {
   "codemirror_mode": {
    "name": "ipython",
    "version": 3
   },
   "file_extension": ".py",
   "mimetype": "text/x-python",
   "name": "python",
   "nbconvert_exporter": "python",
   "pygments_lexer": "ipython3",
   "version": "3.5.2"
  }
 },
 "nbformat": 4,
 "nbformat_minor": 0
}
