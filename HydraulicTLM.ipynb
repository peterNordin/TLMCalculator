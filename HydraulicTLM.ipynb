{
 "cells": [
  {
   "cell_type": "code",
   "execution_count": 1,
   "metadata": {
    "collapsed": false
   },
   "outputs": [
    {
     "data": {
      "text/html": [
       "<style>.container { width:100% !important; }</style>"
      ],
      "text/plain": [
       "<IPython.core.display.HTML object>"
      ]
     },
     "metadata": {},
     "output_type": "display_data"
    }
   ],
   "source": [
    "from IPython.core.display import display, HTML\n",
    "display(HTML(\"<style>.container { width:100% !important; }</style>\"))\n",
    "\n",
    "__author__ = \"Peter Nordin\"\n",
    "__license__ = \"GPL\"\n",
    "__email__ = \"peter.nordin@liu.se\"\n",
    "\n",
    "'''The purpose of this script is to allow easy calulation of the parasitic inductance and/or capacitance that\n",
    "   will result from the choice of time step and material properties in Hopsan'''\n",
    "\n",
    "%matplotlib inline\n",
    "import numpy as np\n",
    "import matplotlib.pyplot as plt\n",
    "from TLMclasses import *"
   ]
  },
  {
   "cell_type": "code",
   "execution_count": 2,
   "metadata": {
    "collapsed": false
   },
   "outputs": [
    {
     "name": "stdout",
     "output_type": "stream",
     "text": [
      "Tdesired: 7.45821694509e-05\n",
      "     stiff &               Ts &         Par. Ind & Par. Ind (Eq.Mass) &   Par. Cap &       Perc. Mass &  Perc. Stiffness &        Resonance\n",
      "         0 &            1E-09 &        -0.088984 &      -8.8984E-08 &          0 &          1.6E-05 &          1.6E+13 &                0\n",
      "         0 &            1E-08 &          -0.0874 &        -8.74E-08 &          0 &           0.0016 &          1.6E+13 &                0\n",
      "         0 &            1E-07 &            0.071 &          7.1E-08 &          0 &             0.16 &          1.6E+13 &                0\n",
      "         0 &            1E-06 &           15.911 &       1.5911E-05 &          0 &               16 &          1.6E+13 &                0\n",
      "         0 &            1E-05 &         1599.911 &      0.001599911 & 1.262177448E-29 &             1600 &          1.6E+13 &                0\n",
      "         0 &  7.458216945E-05 &        88999.911 &      0.088999911 &          0 &            89000 &          1.6E+13 &                0\n",
      "         0 &           0.0001 &       159999.911 &      0.159999911 &          0 &           160000 &          1.6E+13 &                0\n",
      "         0 &  0.0001491643389 &       355999.911 &      0.355999911 &          0 &           356000 &          1.6E+13 &                0\n",
      "         0 &  0.0002983286778 &      1423999.911 &      1.423999911 &          0 &          1424000 &          1.6E+13 &                0\n",
      "         0 &           0.0005 &      3999999.911 &      3.999999911 &          0 &          4000000 &          1.6E+13 &                0\n",
      "         0 &  0.0005966573556 &      5695999.911 &      5.695999911 &          0 &          5696000 &          1.6E+13 &                0\n",
      "         0 &            0.001 &      15999999.91 &      15.99999991 &          0 &         16000000 &          1.6E+13 &                0\n",
      "         0 &            0.005 &      399999999.9 &      399.9999999 &          0 &        400000000 &          1.6E+13 &                0\n",
      "         0 &             0.01 &       1600000000 &             1600 &          0 &       1600000000 &          1.6E+13 &                0\n",
      "         0 &              0.1 &          1.6E+11 &           160000 &          0 &          1.6E+11 &          1.6E+13 &                0\n"
     ]
    },
    {
     "data": {
      "image/png": "[encoded data removed]",
      "text/plain": [
       "<matplotlib.figure.Figure at 0x7fce842e2550>"
      ]
     },
     "metadata": {},
     "output_type": "display_data"
    }
   ],
   "source": [
    "# For a Hydraulic TLM, modelled as a pure capacitance (linear elastic spring), calculate parasitic inductance\n",
    "\n",
    "# Oil spring\n",
    "K = 1.6e9\n",
    "rho = 890\n",
    "n = 1\n",
    "X = 0.1\n",
    "A0 = 0.001\n",
    "\n",
    "waveSpeed = np.sqrt(K/rho)\n",
    "Tdesired = X/waveSpeed\n",
    "volume = A0*X\n",
    "\n",
    "Ts = [Tdesired/n, Tdesired/n*2, Tdesired/n*4, Tdesired/n*8, 1e-9, 1e-8, 1e-7, 1e-6, 1e-5, 1e-4, 5e-4, 1e-3, 5e-3, 1e-2, 1e-1]\n",
    "Ts = sorted(Ts)\n",
    "\n",
    "#template = \"{0:20} & {1:20} & {2:20} & {3:20} & {4:20} \\\\\\\\\"\n",
    "#print(template.format(\"Time step\", \"Par. Inductance\", \"Par. Capacitance\", \"Percived Mass\", \"Percived Stiffness\"))\n",
    "print('Tdesired: '+str(Tdesired))\n",
    "templatehead = \"{0:>10} & {1:>16} & {2:>16} & {3:>16} & {4:>10} & {5:>16} & {6:>16} & {7:>16}\"\n",
    "template = \"{0:10.5G} & {1:16.10G} & {2:16.10G} & {3:16.10G} & {4:10.10G} & {5:16.10G} & {6:16.10G} & {7:16.10G}\"\n",
    "print(templatehead.format(\"stiff\", \"Ts\", \"Par. Ind\", \"Par. Ind (Eq.Mass)\", \"Par. Cap\", \"Perc. Mass\", \"Perc. Stiffness\", \"Resonance\"))\n",
    "paraind = list()\n",
    "for t in Ts:\n",
    "    zc_desired = K/volume*t\n",
    "    tp = TLMHydraulicLine(K, rho, X, A0, zctype='purecapacitance')\n",
    "    tp.calcStuff(t, n)\n",
    "\n",
    "    print(template.format(0, t, tp.parasitic.ind, tp.parasitic.ind*A0*A0, tp.parasitic.cap, tp.percived.ind, tp.percived.stiffness, 0))\n",
    "    paraind.append(tp.parasitic.ind)\n",
    "\n",
    "fig, axL = plt.subplots()\n",
    "axL.plot(Ts, paraind, label='Parasitic Inductance')\n",
    "axL.set_ylabel('Inductance (?)')\n",
    "axL.set_xlabel('Simulation Timestep in micro seconds')\n",
    "axL.legend(loc='best')\n",
    "plt.show()"
   ]
  },
  {
   "cell_type": "code",
   "execution_count": 3,
   "metadata": {
    "collapsed": false
   },
   "outputs": [
    {
     "name": "stdout",
     "output_type": "stream",
     "text": [
      "0.00016148600000000002\n",
      "0.0002\n",
      "0.000534134\n",
      "0.0008\n",
      "         k &         Ts &         Par. Ind & Par. Ind (Eq.Mass) &               Zc &       Perc. Mass &  Perc. Stiffness &        Resonance\n",
      "         1 &      1E-12 &            8E-12 &         5.12E-18 &                8 &            8E-12 &            8E+12 &            1E+12\n",
      "         1 &      1E-11 &            8E-10 &         5.12E-16 &               80 &            8E-10 &            8E+12 &            1E+11\n",
      "         1 &      1E-10 &            8E-08 &         5.12E-14 &              800 &            8E-08 &            8E+12 &            1E+10\n",
      "         1 &      1E-09 &            8E-06 &         5.12E-12 &             8000 &            8E-06 &            8E+12 &       1000000000\n",
      "         1 &      1E-08 &           0.0008 &         5.12E-10 &            8E+04 &           0.0008 &            8E+12 &        100000000\n",
      "         1 &      1E-07 &             0.08 &         5.12E-08 &            8E+05 &             0.08 &            8E+12 &         10000000\n",
      "         1 &    2.5E-07 &              0.5 &          3.2E-07 &            2E+06 &              0.5 &            8E+12 &          4000000\n",
      "         1 &      5E-07 &                2 &         1.28E-06 &            4E+06 &                2 &            8E+12 &          2000000\n",
      "         1 &    7.5E-07 &              4.5 &         2.88E-06 &            6E+06 &              4.5 &            8E+12 &      1333333.333\n",
      "         1 &      1E-06 &                8 &         5.12E-06 &            8E+06 &                8 &            8E+12 &          1000000\n",
      "         1 &    2.5E-06 &               50 &          3.2E-05 &            2E+07 &               50 &            8E+12 &           400000\n",
      "         1 &      5E-06 &              200 &         0.000128 &            4E+07 &              200 &            8E+12 &           200000\n",
      "         1 &    7.5E-06 &              450 &         0.000288 &            6E+07 &              450 &            8E+12 &      133333.3333\n",
      "         1 &      1E-05 &              800 &         0.000512 &            8E+07 &              800 &            8E+12 &           100000\n",
      "         1 &    2.5E-05 &             5000 &           0.0032 &            2E+08 &             5000 &            8E+12 &            40000\n",
      "         1 &      5E-05 &            20000 &           0.0128 &            4E+08 &            20000 &            8E+12 &            20000\n",
      "         1 &    7.5E-05 &            45000 &           0.0288 &            6E+08 &            45000 &            8E+12 &      13333.33333\n",
      "         1 & 7.733661734E-05 &      47847.61905 &    0.03062247619 &        6.187E+08 &      47847.61905 &            8E+12 &      12930.48538\n",
      "         1 &     0.0001 &            80000 &           0.0512 &            8E+08 &            80000 &            8E+12 &            10000\n",
      "         1 &     0.0005 &          2000000 &             1.28 &            4E+09 &          2000000 &            8E+12 &             2000\n",
      "         1 &      0.001 &          8000000 &             5.12 &            8E+09 &          8000000 &            8E+12 &             1000\n",
      "         1 &      0.005 &        200000000 &              128 &            4E+10 &        200000000 &            8E+12 &              200\n"
     ]
    },
    {
     "data": {
      "image/png": "[encoded data removed]",
      "text/plain": [
       "<matplotlib.figure.Figure at 0x7fce84316d30>"
      ]
     },
     "metadata": {},
     "output_type": "display_data"
    }
   ],
   "source": [
    "# For a single step TLM Hydraulic Volume (spring) modelled as a pure capacitance (linear elastic spring), calculate parasitic inductance\n",
    "\n",
    "bulk=1.6e+9\n",
    "volumeA = (192515+130457)/2*1e-9\n",
    "print(volumeA)\n",
    "volume = 2e-4*1+0*1.305e-04+0*2.5e-04\n",
    "print(volume)\n",
    "n=1\n",
    "AAA = (0.000863331+0.000204937)/2 #Affected area, for Eq.Mass calculation\n",
    "print(AAA)\n",
    "AA = 0.0008\n",
    "print(AA)\n",
    "\n",
    "Tdesired = 1e-12\n",
    "\n",
    "kvec = [1]\n",
    "\n",
    "for k in kvec:\n",
    "    #Ts = [Tdesired/n, Tdesired/n*2, Tdesired/n*4, Tdesired/n*8, 1e-9, 1e-8, 1e-7, 1e-6, 1e-5, 1e-4, 5e-4, 1e-3, 1e-2, 1e-1, 1e-0]\n",
    "    Ts = [7.733661734E-05, Tdesired/n, Tdesired/n*10, Tdesired/n*100, Tdesired/n*1000, Tdesired/n*10000, 1e-7, 2.5e-7, 5e-7, 7.5e-7, 1e-6, 2.5e-6, 5e-6, 7.5e-6, 1e-5, 2.5e-5, 5e-5, 7.5e-5, 1e-4, 5e-4, 1e-3, 5e-3]\n",
    "    Ts = sorted(Ts)\n",
    "\n",
    "\n",
    "    #template = \"{0:20} & {1:20} & {2:10} & {3:20} & {4:20} & {5:20} \\\\\\\\\"\n",
    "    templatehead = \"{0:>10} & {1:>10} & {2:>16} & {3:>16} & {4:>16} & {5:>16} & {6:>16} & {7:>16}\"\n",
    "    template = \"{0:10.5G} & {1:10.10G} & {2:16.10G} & {3:16.10G} & {4:16.4G} & {5:16.10G} & {6:16.10G} & {7:16.10G}\"\n",
    "    #print(templatehead.format(\"k\", \"Ts\", \"Par. Ind\", \"Par. Cap\", \"Perc. Mass\", \"Perc. Stiffness\", \"Resonance\"))\n",
    "    print(templatehead.format(\"k\", \"Ts\", \"Par. Ind\", \"Par. Ind (Eq.Mass)\", \"Zc\", \"Perc. Mass\", \"Perc. Stiffness\", \"Resonance\"))\n",
    "    paraind = list()\n",
    "    for t in Ts:\n",
    "        #zc_desired = K/volume*t\n",
    "        tp = TLMHydraulicSpring(bulk, volume, t)\n",
    "        #tp = TLMMechanicLine(E, rho, X, A, zctype='pureinductance')\n",
    "        #tp = TLMMechanicLine(E, rho, X, A, zctype='normal')\n",
    "        tp.calcStuff(t, n)\n",
    "\n",
    "        #print(template.format(k, t, tp.parasitic.ind, tp.parasitic.cap, tp.percived.ind, tp.percived.stiffness, np.sqrt(tp.percived.stiffness/tp.percived.ind)))\n",
    "        print(template.format(k, t, tp.parasitic.ind, tp.parasitic.ind*AA*AA, tp.percived.zc, tp.percived.ind, tp.percived.stiffness, np.sqrt(tp.percived.stiffness/tp.percived.ind)))\n",
    "        #template2 = \"{0:>23.5G}  {1:>17.10G}\"\n",
    "        #print(template2.format(tp.percived.zc,tp.parasitic.ind2))\n",
    "        paraind.append(tp.parasitic.ind)\n",
    "\n",
    "fig, axL = plt.subplots()\n",
    "axL.plot(Ts, paraind, label='Parasitic Inductance')\n",
    "axL.set_ylabel('Inductance (?)')\n",
    "axL.set_xlabel('Simulation Timestep in micro seconds')\n",
    "axL.legend(loc='best')\n",
    "plt.show()"
   ]
  },
  {
   "cell_type": "code",
   "execution_count": 4,
   "metadata": {
    "collapsed": false
   },
   "outputs": [
    {
     "name": "stdout",
     "output_type": "stream",
     "text": [
      "0.000787692307692308\n",
      "0.0004096000000000001\n"
     ]
    }
   ],
   "source": [
    "# Calc parasitic equivalent mass for two purely capacitive hydraulic volumes\n",
    "\n",
    "T=1e-5\n",
    "bulk=1.6e+9\n",
    "V1=0.13e-3\n",
    "V2=0.25e-3\n",
    "A=8e-4\n",
    "\n",
    "Lpara = T*T*bulk/V1\n",
    "print(Lpara*A*A)\n",
    "Lpara = T*T*bulk/V2\n",
    "print(Lpara*A*A)"
   ]
  }
 ],
 "metadata": {
  "kernelspec": {
   "display_name": "Python 3",
   "language": "python",
   "name": "python3"
  },
  "language_info": {
   "codemirror_mode": {
    "name": "ipython",
    "version": 3
   },
   "file_extension": ".py",
   "mimetype": "text/x-python",
   "name": "python",
   "nbconvert_exporter": "python",
   "pygments_lexer": "ipython3",
   "version": "3.5.2"
  }
 },
 "nbformat": 4,
 "nbformat_minor": 0
}
