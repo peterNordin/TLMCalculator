{
 "cells": [
  {
   "cell_type": "code",
   "execution_count": null,
   "metadata": {
    "collapsed": false
   },
   "outputs": [],
   "source": [
    "from IPython.core.display import display, HTML\n",
    "display(HTML(\"<style>.container { width:100% !important; }</style>\"))\n",
    "\n",
    "__author__ = \"Peter Nordin\"\n",
    "__license__ = \"GPL\"\n",
    "__email__ = \"peter.nordin@liu.se\"\n",
    "\n",
    "'''The purpose of this script is to allow easy calulation of the parasitic inductance and/or capacitance that\n",
    "   will result from the choice of time step and material properties in Hopsan'''\n",
    "\n",
    "%matplotlib inline\n",
    "import numpy as np\n",
    "import matplotlib.pyplot as plt\n",
    "from TLMclasses import *"
   ]
  },
  {
   "cell_type": "code",
   "execution_count": null,
   "metadata": {
    "collapsed": false
   },
   "outputs": [],
   "source": [
    "# For a Hydraulic TLM, modelled as a pure capacitance (linear elastic spring), calculate parasitic inductance\n",
    "\n",
    "# Oil spring\n",
    "K = 1.6e9\n",
    "rho = 890\n",
    "n = 1\n",
    "X = 0.1\n",
    "A0 = 0.001\n",
    "\n",
    "waveSpeed = np.sqrt(K/rho)\n",
    "Tdesired = X/waveSpeed\n",
    "volume = A0*X\n",
    "\n",
    "Ts = [Tdesired/n, Tdesired/n*2, Tdesired/n*4, Tdesired/n*8, 1e-9, 1e-8, 1e-7, 1e-6, 1e-5, 1e-4, 5e-4, 1e-3, 5e-3, 1e-2, 1e-1]\n",
    "Ts = sorted(Ts)\n",
    "\n",
    "#template = \"{0:20} & {1:20} & {2:20} & {3:20} & {4:20} \\\\\\\\\"\n",
    "#print(template.format(\"Time step\", \"Par. Inductance\", \"Par. Capacitance\", \"Percived Mass\", \"Percived Stiffness\"))\n",
    "print('Tdesired: '+str(Tdesired))\n",
    "templatehead = \"{0:>10} & {1:>16} & {2:>16} & {3:>16} & {4:>10} & {5:>16} & {6:>16} & {7:>16}\"\n",
    "template = \"{0:10.5G} & {1:16.10G} & {2:16.10G} & {3:16.10G} & {4:10.10G} & {5:16.10G} & {6:16.10G} & {7:16.10G}\"\n",
    "print(templatehead.format(\"stiff\", \"Ts\", \"Par. Ind\", \"Par. Ind (Eq.Mass)\", \"Par. Cap\", \"Perc. Mass\", \"Perc. Stiffness\", \"Resonance\"))\n",
    "paraind = list()\n",
    "for t in Ts:\n",
    "    zc_desired = K/volume*t\n",
    "    tp = TLMHydraulicLine(K, rho, X, A0, zctype='purecapacitance')\n",
    "    tp.calcStuff(t, n)\n",
    "\n",
    "    print(template.format(0, t, tp.parasitic.ind, tp.parasitic.ind*A0*A0, tp.parasitic.cap, tp.percived.ind, tp.percived.stiffness, 0))\n",
    "    paraind.append(tp.parasitic.ind)\n",
    "\n",
    "fig, axL = plt.subplots()\n",
    "axL.plot(Ts, paraind, label='Parasitic Inductance')\n",
    "axL.set_ylabel('Inductance (?)')\n",
    "axL.set_xlabel('Simulation Timestep in micro seconds')\n",
    "axL.legend(loc='best')\n",
    "plt.show()"
   ]
  },
  {
   "cell_type": "code",
   "execution_count": null,
   "metadata": {
    "collapsed": false
   },
   "outputs": [],
   "source": [
    "# For a single step TLM Hydraulic Volume (spring) modelled as a pure capacitance (linear elastic spring), calculate parasitic inductance\n",
    "\n",
    "bulk=1.6e+9\n",
    "volumeA = (192515+130457)/2*1e-9\n",
    "print(volumeA)\n",
    "volume = 2e-4*1+0*1.305e-04+0*2.5e-04\n",
    "print(volume)\n",
    "n=1\n",
    "AAA = (0.000863331+0.000204937)/2 #Affected area, for Eq.Mass calculation\n",
    "print(AAA)\n",
    "AA = 0.0008\n",
    "print(AA)\n",
    "\n",
    "Tdesired = 1e-12\n",
    "\n",
    "kvec = [1]\n",
    "\n",
    "for k in kvec:\n",
    "    #Ts = [Tdesired/n, Tdesired/n*2, Tdesired/n*4, Tdesired/n*8, 1e-9, 1e-8, 1e-7, 1e-6, 1e-5, 1e-4, 5e-4, 1e-3, 1e-2, 1e-1, 1e-0]\n",
    "    Ts = [7.733661734E-05, Tdesired/n, Tdesired/n*10, Tdesired/n*100, Tdesired/n*1000, Tdesired/n*10000, 1e-7, 2.5e-7, 5e-7, 7.5e-7, 1e-6, 2.5e-6, 5e-6, 7.5e-6, 1e-5, 2.5e-5, 5e-5, 7.5e-5, 1e-4, 5e-4, 1e-3, 5e-3]\n",
    "    Ts = sorted(Ts)\n",
    "\n",
    "\n",
    "    #template = \"{0:20} & {1:20} & {2:10} & {3:20} & {4:20} & {5:20} \\\\\\\\\"\n",
    "    templatehead = \"{0:>10} & {1:>10} & {2:>16} & {3:>16} & {4:>16} & {5:>16} & {6:>16} & {7:>16}\"\n",
    "    template = \"{0:10.5G} & {1:10.10G} & {2:16.10G} & {3:16.10G} & {4:16.4G} & {5:16.10G} & {6:16.10G} & {7:16.10G}\"\n",
    "    #print(templatehead.format(\"k\", \"Ts\", \"Par. Ind\", \"Par. Cap\", \"Perc. Mass\", \"Perc. Stiffness\", \"Resonance\"))\n",
    "    print(templatehead.format(\"k\", \"Ts\", \"Par. Ind\", \"Par. Ind (Eq.Mass)\", \"Zc\", \"Perc. Mass\", \"Perc. Stiffness\", \"Resonance\"))\n",
    "    paraind = list()\n",
    "    for t in Ts:\n",
    "        #zc_desired = K/volume*t\n",
    "        tp = TLMHydraulicSpring(bulk, volume, t)\n",
    "        #tp = TLMMechanicLine(E, rho, X, A, zctype='pureinductance')\n",
    "        #tp = TLMMechanicLine(E, rho, X, A, zctype='normal')\n",
    "        tp.calcStuff(t, n)\n",
    "\n",
    "        #print(template.format(k, t, tp.parasitic.ind, tp.parasitic.cap, tp.percived.ind, tp.percived.stiffness, np.sqrt(tp.percived.stiffness/tp.percived.ind)))\n",
    "        print(template.format(k, t, tp.parasitic.ind, tp.parasitic.ind*AA*AA, tp.percived.zc, tp.percived.ind, tp.percived.stiffness, np.sqrt(tp.percived.stiffness/tp.percived.ind)))\n",
    "        #template2 = \"{0:>23.5G}  {1:>17.10G}\"\n",
    "        #print(template2.format(tp.percived.zc,tp.parasitic.ind2))\n",
    "        paraind.append(tp.parasitic.ind)\n",
    "\n",
    "fig, axL = plt.subplots()\n",
    "axL.plot(Ts, paraind, label='Parasitic Inductance')\n",
    "axL.set_ylabel('Inductance (?)')\n",
    "axL.set_xlabel('Simulation Timestep in micro seconds')\n",
    "axL.legend(loc='best')\n",
    "plt.show()"
   ]
  },
  {
   "cell_type": "code",
   "execution_count": null,
   "metadata": {
    "collapsed": false
   },
   "outputs": [],
   "source": [
    "# Calc parasitic equivalent mass for two purely capacitive hydraulic volumes\n",
    "\n",
    "T=1e-5\n",
    "bulk=1.6e+9\n",
    "V1=0.13e-3\n",
    "V2=0.25e-3\n",
    "A=8e-4\n",
    "\n",
    "Lpara = T*T*bulk/V1\n",
    "print(Lpara*A*A)\n",
    "Lpara = T*T*bulk/V2\n",
    "print(Lpara*A*A)"
   ]
  }
 ],
 "metadata": {
  "kernelspec": {
   "display_name": "Python 3",
   "language": "python",
   "name": "python3"
  },
  "language_info": {
   "codemirror_mode": {
    "name": "ipython",
    "version": 3
   },
   "file_extension": ".py",
   "mimetype": "text/x-python",
   "name": "python",
   "nbconvert_exporter": "python",
   "pygments_lexer": "ipython3",
   "version": "3.5.2"
  }
 },
 "nbformat": 4,
 "nbformat_minor": 0
}
