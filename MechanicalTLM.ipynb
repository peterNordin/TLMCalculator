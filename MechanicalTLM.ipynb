{
 "cells": [
  {
   "cell_type": "code",
   "execution_count": null,
   "metadata": {
    "collapsed": false
   },
   "outputs": [],
   "source": [
    "from IPython.core.display import display, HTML\n",
    "display(HTML(\"<style>.container { width:100% !important; }</style>\"))\n",
    "\n",
    "__author__ = \"Peter Nordin\"\n",
    "__license__ = \"GPL\"\n",
    "__email__ = \"peter.nordin@liu.se\"\n",
    "\n",
    "'''The purpose of this script is to allow easy calulation of the parasitic inductance and/or capacitance that\n",
    "   will result from the choice of time step and material properties in Hopsan'''\n",
    "\n",
    "%matplotlib inline\n",
    "import numpy as np\n",
    "import matplotlib.pyplot as plt\n",
    "from TLMclasses import *"
   ]
  },
  {
   "cell_type": "code",
   "execution_count": null,
   "metadata": {
    "collapsed": false
   },
   "outputs": [],
   "source": [
    "# For a single step Mechanical Spring TLM modelled as a pure capacitance (linear elastic spring), calculate parasitic inductance\n",
    "\n",
    "# Spring\n",
    "k=2.63893782902e+11\n",
    "n=1\n",
    "\n",
    "Tdesired = 1e-12\n",
    "\n",
    "kvec = [1e6, 1e7, 1e8, 1e9, 1e10, 1e11, k]\n",
    "kvec = [k]\n",
    "\n",
    "for k in kvec:\n",
    "    #Ts = [Tdesired/n, Tdesired/n*2, Tdesired/n*4, Tdesired/n*8, 1e-9, 1e-8, 1e-7, 1e-6, 1e-5, 1e-4, 5e-4, 1e-3, 1e-2, 1e-1, 1e-0]\n",
    "    Ts = [Tdesired/n, Tdesired/n*10, Tdesired/n*100, Tdesired/n*1000, Tdesired/n*10000, 1e-7, 2.5e-7, 5e-7, 7.5e-7, 1e-6, 2.5e-6, 5e-6, 7.5e-6, 1e-5, 2.5e-5, 5e-5, 7.5e-5]\n",
    "    Ts = sorted(Ts)\n",
    "\n",
    "    templatehead = \"{0:>10} & {1:>10} & {2:>16} & {3:>16} & {4:>16} & {5:>16} & {6:>16}\"\n",
    "    template = \"{0:10.5G} & {1:10.10G} & {2:16.10G} & {3:16.10G} & {4:16.10G} & {5:16.10G} & {6:16.10G}\"\n",
    "    print(templatehead.format(\"k\", \"Ts\", \"Par. Ind\", \"Par. Cap\", \"Perc. Mass\", \"Perc. Stiffness\", \"Resonance\"))\n",
    "    paraind = list()\n",
    "    for t in Ts:\n",
    "        #zc_desired = K/volume*t\n",
    "        tp = TLMMechanicSpring(k, t)\n",
    "        #tp = TLMMechanicLine(E, rho, X, A, zctype='pureinductance')\n",
    "        #tp = TLMMechanicLine(E, rho, X, A, zctype='normal')\n",
    "        tp.calcStuff(t, n)\n",
    "\n",
    "        print(template.format(k, t, tp.parasitic.ind, tp.parasitic.cap, tp.percived.ind, tp.percived.stiffness, np.sqrt(tp.percived.stiffness/tp.percived.ind)))\n",
    "        template2 = \"{0:>23.5G}  {1:>17.10G}\"\n",
    "        #print(template2.format(tp.percived.zc,tp.parasitic.ind2))\n",
    "        paraind.append(tp.parasitic.ind)\n",
    "\n",
    "fig, axL = plt.subplots()\n",
    "#plt.title('Length and parasitic mass realtive to simualtion timestep')\n",
    "axL.plot(Ts, paraind, label='Parasitic Inductance')\n",
    "axL.set_ylabel('Inductance (mass)')\n",
    "axL.set_xlabel('Simulation Timestep in micro seconds')\n",
    "axL.legend(loc='best')\n",
    "plt.show()"
   ]
  },
  {
   "cell_type": "code",
   "execution_count": null,
   "metadata": {
    "collapsed": false
   },
   "outputs": [],
   "source": [
    "# A solid mechanic TLM element, with typical solid material properties\n",
    "# If modelled as a pure capacitance (linear elastic spring) then we get parasitic inductance\n",
    "# If modelled as a pure inductance (rigid mass) then we get parasitic capacitance (reduced stiffness, so its not really rigid anymore)\n",
    "# If modelled as a pure impedance (normal way) then we get both pparasitic inductance and capacitance \n",
    "\n",
    "# Solid properties\n",
    "E=2.1e11\n",
    "rho=7850\n",
    "X=0.4\n",
    "D=0.070*1\n",
    "A=np.pi*D*D/4\n",
    "n=1\n",
    "\n",
    "waveSpeed = np.sqrt(E/rho)\n",
    "Tdesired = X/waveSpeed\n",
    "massdesired = A*X*rho\n",
    "\n",
    "#Ts = [Tdesired/n, Tdesired/n*2, Tdesired/n*4, Tdesired/n*8, 1e-9, 1e-8, 1e-7, 1e-6, 1e-5, 1e-4, 5e-4, 1e-3, 1e-2, 1e-1, 1e-0]\n",
    "#Ts = [Tdesired/abs(n), 2e-6, 1e-5, 1e-4, 5e-4, 1e-3, 1e-2]\n",
    "Ts = [Tdesired/n, Tdesired/n*10, Tdesired/n*100, Tdesired/n*1000, Tdesired/n*10000, 1e-10, 1e-9, 1e-8, 1e-7, 2.5e-7, 5e-7, 7.5e-7, 1e-6, 2.5e-6, 5e-6, 7.5e-6, 1e-5, 2.5e-5, 5e-5, 7.5e-5, 1e-4, 5e-4, 1e-3, 5e-3]\n",
    "Ts = sorted(Ts)\n",
    "\n",
    "print('Desired Mass: ', massdesired)\n",
    "templatehead = \"{0:>16} & {1:>16} & {2:>16} & {3:>16} & {4:>16} & {5:>16} & {6:>16}\"\n",
    "template = \"{0:16.10G} & {1:16.10G} & {2:16.10G} & {3:16.10G} & {4:16.10G} & {5:16.10G} & {6:16.10G}\"\n",
    "print(templatehead.format(\"Ts\", \"Par. Ind\", \"Par. Cap\", \"Perc. Mass\", \"Perc. Stiffness\", \"Zc\", \"Resonance\"))\n",
    "for t in Ts:\n",
    "    #zc_desired = K/volume*t\n",
    "    tp = TLMMechanicLine(E, rho, X, A, zctype='purecapacitance')\n",
    "    #tp = TLMMechanicLine(E, rho, X, A, zctype='pureinductance')\n",
    "    #tp = TLMMechanicLine(E, rho, X, A, zctype='normal')\n",
    "    tp.calcStuff(t, n)\n",
    "\n",
    "    print(template.format(t, tp.parasitic.ind, tp.parasitic.cap, tp.percived.ind, tp.percived.stiffness, tp.percived.zc, np.sqrt(tp.percived.stiffness/tp.percived.ind)))\n",
    "    template2 = \"{0:>16.5G}  {1:>17.10G} {2:>18.10G} {3:>18.10G}\"\n",
    "    #print(template2.format(tp.percived.zc, tp.parasitic.ind2, tp.parasitic.cap2, tp.percived.ind2))"
   ]
  },
  {
   "cell_type": "code",
   "execution_count": null,
   "metadata": {
    "collapsed": false
   },
   "outputs": [],
   "source": [
    "# Two-mass-spring system test\n",
    "m1 = 1\n",
    "m2 = 22\n",
    "kGain = 1000000\n",
    "k1 = 100*kGain\n",
    "k2 = 10*kGain\n",
    "\n",
    "Ts = [1e-9, 1e-8, 1e-7, 1e-6, 1e-5, 1e-4, 1.5e-4, 2e-4, 3e-5, 4e-4, 5e-4, 1e-3]\n",
    "Ts = sorted(Ts)\n",
    "\n",
    "template = \"{0:20} & {1:20} & {2:20} & {3:20} & {4:20} \\\\\\\\\"\n",
    "print(template.format(\"Time step\", \"Par.Cap\", \"Par.Ind\", \"Percived Stiffness\", \"Percived Mass\"))\n",
    "for t in Ts:\n",
    "    tp1 = TLMLineParameters(1e99, 1e-20, np.sqrt(m1/k1), m1, 1.0/k1, 'purecapacitance')\n",
    "    tp1.calcStuff(t,1)\n",
    "    tp2 = TLMLineParameters(1e99, 1e-20, np.sqrt(m2/k2), m2, 1.0/k2, 'purecapacitance')\n",
    "    tp2.calcStuff(t,1)\n",
    "    \n",
    "    print(template.format(str(t)+'  1:', str(tp1.parasitic.cap), str(tp1.parasitic.ind), str(tp1.percived.stiffness), str(tp1.percived.ind)))\n",
    "    print(template.format(str(t)+'  2:', str(tp2.parasitic.cap), str(tp2.parasitic.ind), str(tp2.percived.stiffness), str(tp2.percived.ind)))\n"
   ]
  }
 ],
 "metadata": {
  "kernelspec": {
   "display_name": "Python 3",
   "language": "python",
   "name": "python3"
  },
  "language_info": {
   "codemirror_mode": {
    "name": "ipython",
    "version": 3
   },
   "file_extension": ".py",
   "mimetype": "text/x-python",
   "name": "python",
   "nbconvert_exporter": "python",
   "pygments_lexer": "ipython3",
   "version": "3.5.2"
  }
 },
 "nbformat": 4,
 "nbformat_minor": 0
}
