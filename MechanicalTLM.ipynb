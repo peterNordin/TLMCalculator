{
 "cells": [
  {
   "cell_type": "code",
   "execution_count": 1,
   "metadata": {
    "collapsed": false
   },
   "outputs": [
    {
     "data": {
      "text/html": [
       "<style>.container { width:100% !important; }</style>"
      ],
      "text/plain": [
       "<IPython.core.display.HTML object>"
      ]
     },
     "metadata": {},
     "output_type": "display_data"
    }
   ],
   "source": [
    "from IPython.core.display import display, HTML\n",
    "display(HTML(\"<style>.container { width:100% !important; }</style>\"))\n",
    "\n",
    "__author__ = \"Peter Nordin\"\n",
    "__license__ = \"GPL\"\n",
    "__email__ = \"peter.nordin@liu.se\"\n",
    "\n",
    "'''The purpose of this script is to allow easy calulation of the parasitic inductance and/or capacitance that\n",
    "   will result from the choice of time step and material properties in Hopsan'''\n",
    "\n",
    "%matplotlib inline\n",
    "import numpy as np\n",
    "import matplotlib.pyplot as plt\n",
    "from TLMclasses import *"
   ]
  },
  {
   "cell_type": "code",
   "execution_count": 2,
   "metadata": {
    "collapsed": false
   },
   "outputs": [
    {
     "name": "stdout",
     "output_type": "stream",
     "text": [
      "         k &         Ts &         Par. Ind &         Par. Cap &       Perc. Mass &  Perc. Stiffness &        Resonance\n",
      "2.6389E+11 &      1E-12 &  2.638937829E-13 &                0 &  2.638937829E-13 &  2.638937829E+11 &            1E+12\n",
      "2.6389E+11 &      1E-11 &  2.638937829E-11 &                0 &  2.638937829E-11 &  2.638937829E+11 &            1E+11\n",
      "2.6389E+11 &      1E-10 &  2.638937829E-09 &                0 &  2.638937829E-09 &  2.638937829E+11 &            1E+10\n",
      "2.6389E+11 &      1E-09 &  2.638937829E-07 &                0 &  2.638937829E-07 &  2.638937829E+11 &       1000000000\n",
      "2.6389E+11 &      1E-08 &  2.638937829E-05 &                0 &  2.638937829E-05 &  2.638937829E+11 &        100000000\n",
      "2.6389E+11 &      1E-07 &   0.002638937829 &                0 &   0.002638937829 &  2.638937829E+11 &         10000000\n",
      "2.6389E+11 &    2.5E-07 &    0.01649336143 &                0 &    0.01649336143 &  2.638937829E+11 &          4000000\n",
      "2.6389E+11 &      5E-07 &    0.06597344573 &                0 &    0.06597344573 &  2.638937829E+11 &          2000000\n",
      "2.6389E+11 &    7.5E-07 &     0.1484402529 &                0 &     0.1484402529 &  2.638937829E+11 &      1333333.333\n",
      "2.6389E+11 &      1E-06 &     0.2638937829 &                0 &     0.2638937829 &  2.638937829E+11 &          1000000\n",
      "2.6389E+11 &    2.5E-06 &      1.649336143 &                0 &      1.649336143 &  2.638937829E+11 &           400000\n",
      "2.6389E+11 &      5E-06 &      6.597344573 &                0 &      6.597344573 &  2.638937829E+11 &           200000\n",
      "2.6389E+11 &    7.5E-06 &      14.84402529 &                0 &      14.84402529 &  2.638937829E+11 &      133333.3333\n",
      "2.6389E+11 &      1E-05 &      26.38937829 &                0 &      26.38937829 &  2.638937829E+11 &           100000\n",
      "2.6389E+11 &    2.5E-05 &      164.9336143 &                0 &      164.9336143 &  2.638937829E+11 &            40000\n",
      "2.6389E+11 &      5E-05 &      659.7344573 &                0 &      659.7344573 &  2.638937829E+11 &            20000\n",
      "2.6389E+11 &    7.5E-05 &      1484.402529 &                0 &      1484.402529 &  2.638937829E+11 &      13333.33333\n"
     ]
    },
    {
     "data": {
      "image/png": "[encoded data removed]",
      "text/plain": [
       "<matplotlib.figure.Figure at 0x7fc9232640f0>"
      ]
     },
     "metadata": {},
     "output_type": "display_data"
    }
   ],
   "source": [
    "# For a single step Mechanical Spring TLM modelled as a pure capacitance (linear elastic spring), calculate parasitic inductance\n",
    "\n",
    "# Spring\n",
    "k=2.63893782902e+11\n",
    "n=1\n",
    "\n",
    "Tdesired = 1e-12\n",
    "\n",
    "kvec = [1e6, 1e7, 1e8, 1e9, 1e10, 1e11, k]\n",
    "kvec = [k]\n",
    "\n",
    "for k in kvec:\n",
    "    #Ts = [Tdesired/n, Tdesired/n*2, Tdesired/n*4, Tdesired/n*8, 1e-9, 1e-8, 1e-7, 1e-6, 1e-5, 1e-4, 5e-4, 1e-3, 1e-2, 1e-1, 1e-0]\n",
    "    Ts = [Tdesired/n, Tdesired/n*10, Tdesired/n*100, Tdesired/n*1000, Tdesired/n*10000, 1e-7, 2.5e-7, 5e-7, 7.5e-7, 1e-6, 2.5e-6, 5e-6, 7.5e-6, 1e-5, 2.5e-5, 5e-5, 7.5e-5]\n",
    "    Ts = sorted(Ts)\n",
    "\n",
    "    templatehead = \"{0:>10} & {1:>10} & {2:>16} & {3:>16} & {4:>16} & {5:>16} & {6:>16}\"\n",
    "    template = \"{0:10.5G} & {1:10.10G} & {2:16.10G} & {3:16.10G} & {4:16.10G} & {5:16.10G} & {6:16.10G}\"\n",
    "    print(templatehead.format(\"k\", \"Ts\", \"Par. Ind\", \"Par. Cap\", \"Perc. Mass\", \"Perc. Stiffness\", \"Resonance\"))\n",
    "    paraind = list()\n",
    "    for t in Ts:\n",
    "        #zc_desired = K/volume*t\n",
    "        tp = TLMMechanicSpring(k, t)\n",
    "        #tp = TLMMechanicLine(E, rho, X, A, zctype='pureinductance')\n",
    "        #tp = TLMMechanicLine(E, rho, X, A, zctype='normal')\n",
    "        tp.calcStuff(t, n)\n",
    "\n",
    "        print(template.format(k, t, tp.parasitic.ind, tp.parasitic.cap, tp.percived.ind, tp.percived.stiffness, np.sqrt(tp.percived.stiffness/tp.percived.ind)))\n",
    "        template2 = \"{0:>23.5G}  {1:>17.10G}\"\n",
    "        #print(template2.format(tp.percived.zc,tp.parasitic.ind2))\n",
    "        paraind.append(tp.parasitic.ind)\n",
    "\n",
    "fig, axL = plt.subplots()\n",
    "#plt.title('Length and parasitic mass realtive to simualtion timestep')\n",
    "axL.plot(Ts, paraind, label='Parasitic Inductance')\n",
    "axL.set_ylabel('Inductance (mass)')\n",
    "axL.set_xlabel('Simulation Timestep in micro seconds')\n",
    "axL.legend(loc='best')\n",
    "plt.show()"
   ]
  },
  {
   "cell_type": "code",
   "execution_count": 3,
   "metadata": {
    "collapsed": false
   },
   "outputs": [
    {
     "name": "stdout",
     "output_type": "stream",
     "text": [
      "Desired Mass:  12.084136142033142\n",
      "              Ts &         Par. Ind &         Par. Cap &       Perc. Mass &  Perc. Stiffness &               Zc &        Resonance\n",
      "           1E-10 &     -12.08413614 &                0 &  2.020436775E-11 &       2020436775 &     0.2020436775 &            1E+10\n",
      "           1E-09 &     -12.08413614 &  1.033975766E-25 &  2.020436775E-09 &       2020436775 &      2.020436775 &       1000000000\n",
      "           1E-08 &     -12.08413594 &                0 &  2.020436775E-07 &       2020436775 &      20.20436775 &        100000000\n",
      "           1E-07 &     -12.08411594 &                0 &  2.020436775E-05 &       2020436775 &      202.0436775 &         10000000\n",
      "         2.5E-07 &     -12.08400986 &                0 &  0.0001262772985 &       2020436775 &      505.1091938 &          4000000\n",
      "           5E-07 &     -12.08363103 &                0 &  0.0005051091938 &       2020436775 &      1010.218388 &          2000000\n",
      "         7.5E-07 &     -12.08299965 &                0 &   0.001136495686 &       2020436775 &      1515.327582 &      1333333.333\n",
      "           1E-06 &     -12.08211571 &                0 &   0.002020436775 &       2020436775 &      2020.436775 &          1000000\n",
      "         2.5E-06 &     -12.07150841 &                0 &    0.01262772985 &       2020436775 &      5051.091938 &           400000\n",
      "           5E-06 &     -12.03362522 &                0 &    0.05051091938 &       2020436775 &      10102.18388 &           200000\n",
      "         7.5E-06 &     -11.97048657 &                0 &     0.1136495686 &       2020436775 &      15153.27582 &      133333.3333\n",
      "           1E-05 &     -11.88209246 &                0 &     0.2020436775 &       2020436775 &      20204.36775 &           100000\n",
      "         2.5E-05 &     -10.82136316 &                0 &      1.262772985 &       2020436775 &      50510.91938 &            40000\n",
      "           5E-05 &     -7.033044204 &                0 &      5.051091938 &       2020436775 &      101021.8388 &            20000\n",
      "         7.5E-05 &    -0.7191792807 &                0 &      11.36495686 &       2020436775 &      151532.7582 &      13333.33333\n",
      " 7.733661734E-05 &                0 &                0 &      12.08413614 &       2020436775 &      156253.7457 &      12930.48538\n",
      "          0.0001 &      8.120231611 &                0 &      20.20436775 &       2020436775 &      202043.6775 &            10000\n",
      "          0.0005 &      493.0250577 &                0 &      505.1091938 &       2020436775 &      1010218.388 &             2000\n",
      " 0.0007733661734 &      1196.329478 &                0 &      1208.413614 &       2020436775 &      1562537.457 &      1293.048538\n",
      "           0.001 &      2008.352639 &                0 &      2020.436775 &       2020436775 &      2020436.775 &             1000\n",
      "           0.005 &      50498.83525 &                0 &      50510.91938 &       2020436775 &      10102183.88 &              200\n",
      "  0.007733661734 &      120829.2773 &                0 &      120841.3614 &       2020436775 &      15625374.57 &      129.3048538\n",
      "   0.07733661734 &      12084124.06 &                0 &      12084136.14 &       2020436775 &      156253745.7 &      12.93048538\n",
      "    0.7733661734 &       1208413602 &                0 &       1208413614 &       2020436775 &       1562537457 &      1.293048538\n"
     ]
    }
   ],
   "source": [
    "# A solid mechanic TLM element, with typical solid material properties\n",
    "# If modelled as a pure capacitance (linear elastic spring) then we get parasitic inductance\n",
    "# If modelled as a pure inductance (rigid mass) then we get parasitic capacitance (reduced stiffness, so its not really rigid anymore)\n",
    "# If modelled as a pure impedance (normal way) then we get both pparasitic inductance and capacitance \n",
    "\n",
    "# Solid properties\n",
    "E=2.1e11\n",
    "rho=7850\n",
    "X=0.4\n",
    "D=0.070*1\n",
    "A=np.pi*D*D/4\n",
    "n=1\n",
    "\n",
    "waveSpeed = np.sqrt(E/rho)\n",
    "Tdesired = X/waveSpeed\n",
    "massdesired = A*X*rho\n",
    "\n",
    "#Ts = [Tdesired/n, Tdesired/n*2, Tdesired/n*4, Tdesired/n*8, 1e-9, 1e-8, 1e-7, 1e-6, 1e-5, 1e-4, 5e-4, 1e-3, 1e-2, 1e-1, 1e-0]\n",
    "#Ts = [Tdesired/abs(n), 2e-6, 1e-5, 1e-4, 5e-4, 1e-3, 1e-2]\n",
    "Ts = [Tdesired/n, Tdesired/n*10, Tdesired/n*100, Tdesired/n*1000, Tdesired/n*10000, 1e-10, 1e-9, 1e-8, 1e-7, 2.5e-7, 5e-7, 7.5e-7, 1e-6, 2.5e-6, 5e-6, 7.5e-6, 1e-5, 2.5e-5, 5e-5, 7.5e-5, 1e-4, 5e-4, 1e-3, 5e-3]\n",
    "Ts = sorted(Ts)\n",
    "\n",
    "print('Desired Mass: ', massdesired)\n",
    "templatehead = \"{0:>16} & {1:>16} & {2:>16} & {3:>16} & {4:>16} & {5:>16} & {6:>16}\"\n",
    "template = \"{0:16.10G} & {1:16.10G} & {2:16.10G} & {3:16.10G} & {4:16.10G} & {5:16.10G} & {6:16.10G}\"\n",
    "print(templatehead.format(\"Ts\", \"Par. Ind\", \"Par. Cap\", \"Perc. Mass\", \"Perc. Stiffness\", \"Zc\", \"Resonance\"))\n",
    "for t in Ts:\n",
    "    #zc_desired = K/volume*t\n",
    "    tp = TLMMechanicLine(E, rho, X, A, zctype='purecapacitance')\n",
    "    #tp = TLMMechanicLine(E, rho, X, A, zctype='pureinductance')\n",
    "    #tp = TLMMechanicLine(E, rho, X, A, zctype='normal')\n",
    "    tp.calcStuff(t, n)\n",
    "\n",
    "    print(template.format(t, tp.parasitic.ind, tp.parasitic.cap, tp.percived.ind, tp.percived.stiffness, tp.percived.zc, np.sqrt(tp.percived.stiffness/tp.percived.ind)))\n",
    "    template2 = \"{0:>16.5G}  {1:>17.10G} {2:>18.10G} {3:>18.10G}\"\n",
    "    #print(template2.format(tp.percived.zc, tp.parasitic.ind2, tp.parasitic.cap2, tp.percived.ind2))"
   ]
  },
  {
   "cell_type": "code",
   "execution_count": 4,
   "metadata": {
    "collapsed": false
   },
   "outputs": [
    {
     "name": "stdout",
     "output_type": "stream",
     "text": [
      "Time step            & Par.Cap              & Par.Ind              & Percived Stiffness   & Percived Mass        \\\\\n",
      "1e-09  1:            & 0.0                  & -0.9999999999        & 100000000.0          & 1.0000000000000002e-10 \\\\\n",
      "1e-09  2:            & 1.3234889800848443e-23 & -21.99999999999      & 10000000.0           & 1.0000000000000001e-11 \\\\\n",
      "1e-08  1:            & 0.0                  & -0.99999999          & 100000000.0          & 1e-08                \\\\\n",
      "1e-08  2:            & 0.0                  & -21.999999999        & 10000000.0           & 1e-09                \\\\\n",
      "1e-07  1:            & 0.0                  & -0.999999            & 100000000.0          & 1e-06                \\\\\n",
      "1e-07  2:            & 0.0                  & -21.9999999          & 10000000.0           & 1e-07                \\\\\n",
      "1e-06  1:            & 0.0                  & -0.9999              & 100000000.0          & 9.999999999999999e-05 \\\\\n",
      "1e-06  2:            & 0.0                  & -21.99999            & 10000000.0           & 9.999999999999999e-06 \\\\\n",
      "1e-05  1:            & 0.0                  & -0.99                & 100000000.0          & 0.010000000000000002 \\\\\n",
      "1e-05  2:            & 0.0                  & -21.999              & 10000000.0           & 0.0010000000000000002 \\\\\n",
      "3e-05  1:            & 0.0                  & -0.91                & 100000000.0          & 0.09                 \\\\\n",
      "3e-05  2:            & 1.3234889800848443e-23 & -21.991              & 10000000.0           & 0.009000000000000001 \\\\\n",
      "0.0001  1:           & 0.0                  & 0.0                  & 100000000.0          & 1.0                  \\\\\n",
      "0.0001  2:           & 1.3234889800848443e-23 & -21.9                & 10000000.0           & 0.1                  \\\\\n",
      "0.00015  1:          & 0.0                  & 1.2499999999999996   & 100000000.0          & 2.2499999999999996   \\\\\n",
      "0.00015  2:          & 1.3234889800848443e-23 & -21.775              & 10000000.0           & 0.22499999999999995  \\\\\n",
      "0.0002  1:           & 0.0                  & 3.0                  & 100000000.0          & 4.0                  \\\\\n",
      "0.0002  2:           & 1.3234889800848443e-23 & -21.6                & 10000000.0           & 0.4                  \\\\\n",
      "0.0004  1:           & 0.0                  & 15.0                 & 100000000.0          & 16.0                 \\\\\n",
      "0.0004  2:           & 1.3234889800848443e-23 & -20.4                & 10000000.0           & 1.6                  \\\\\n",
      "0.0005  1:           & 0.0                  & 24.0                 & 100000000.0          & 25.0                 \\\\\n",
      "0.0005  2:           & 0.0                  & -19.5                & 10000000.0           & 2.5                  \\\\\n",
      "0.001  1:            & 0.0                  & 99.0                 & 100000000.0          & 100.0                \\\\\n",
      "0.001  2:            & 0.0                  & -12.0                & 10000000.0           & 10.0                 \\\\\n"
     ]
    }
   ],
   "source": [
    "# Two-mass-spring system test\n",
    "m1 = 1\n",
    "m2 = 22\n",
    "kGain = 1000000\n",
    "k1 = 100*kGain\n",
    "k2 = 10*kGain\n",
    "\n",
    "Ts = [1e-9, 1e-8, 1e-7, 1e-6, 1e-5, 1e-4, 1.5e-4, 2e-4, 3e-5, 4e-4, 5e-4, 1e-3]\n",
    "Ts = sorted(Ts)\n",
    "\n",
    "template = \"{0:20} & {1:20} & {2:20} & {3:20} & {4:20} \\\\\\\\\"\n",
    "print(template.format(\"Time step\", \"Par.Cap\", \"Par.Ind\", \"Percived Stiffness\", \"Percived Mass\"))\n",
    "for t in Ts:\n",
    "    tp1 = TLMLineParameters(1e99, 1e-20, np.sqrt(m1/k1), m1, 1.0/k1, 'purecapacitance')\n",
    "    tp1.calcStuff(t,1)\n",
    "    tp2 = TLMLineParameters(1e99, 1e-20, np.sqrt(m2/k2), m2, 1.0/k2, 'purecapacitance')\n",
    "    tp2.calcStuff(t,1)\n",
    "    \n",
    "    print(template.format(str(t)+'  1:', str(tp1.parasitic.cap), str(tp1.parasitic.ind), str(tp1.percived.stiffness), str(tp1.percived.ind)))\n",
    "    print(template.format(str(t)+'  2:', str(tp2.parasitic.cap), str(tp2.parasitic.ind), str(tp2.percived.stiffness), str(tp2.percived.ind)))\n"
   ]
  }
 ],
 "metadata": {
  "kernelspec": {
   "display_name": "Python 3",
   "language": "python",
   "name": "python3"
  },
  "language_info": {
   "codemirror_mode": {
    "name": "ipython",
    "version": 3
   },
   "file_extension": ".py",
   "mimetype": "text/x-python",
   "name": "python",
   "nbconvert_exporter": "python",
   "pygments_lexer": "ipython3",
   "version": "3.5.2"
  }
 },
 "nbformat": 4,
 "nbformat_minor": 0
}
